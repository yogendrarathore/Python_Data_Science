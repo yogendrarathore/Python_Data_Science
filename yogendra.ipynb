{
 "cells": [
  {
   "cell_type": "code",
   "execution_count": 1,
   "id": "3cbd1cca",
   "metadata": {},
   "outputs": [],
   "source": [
    "import numpy as _"
   ]
  },
  {
   "cell_type": "code",
   "execution_count": 2,
   "id": "8640db50",
   "metadata": {},
   "outputs": [],
   "source": [
    "a=[12,3,4,5]"
   ]
  },
  {
   "cell_type": "code",
   "execution_count": 3,
   "id": "b8e3f705",
   "metadata": {},
   "outputs": [],
   "source": [
    "q=_.array(a)"
   ]
  },
  {
   "cell_type": "code",
   "execution_count": 4,
   "id": "b35263e9",
   "metadata": {},
   "outputs": [
    {
     "data": {
      "text/plain": [
       "array([12,  3,  4,  5])"
      ]
     },
     "execution_count": 4,
     "metadata": {},
     "output_type": "execute_result"
    }
   ],
   "source": [
    "q"
   ]
  },
  {
   "cell_type": "code",
   "execution_count": 7,
   "id": "da38fe5a",
   "metadata": {},
   "outputs": [],
   "source": [
    "e=_.resize(q,[2,2])"
   ]
  },
  {
   "cell_type": "code",
   "execution_count": null,
   "id": "bfdb97a7",
   "metadata": {},
   "outputs": [],
   "source": []
  },
  {
   "cell_type": "code",
   "execution_count": 8,
   "id": "7f6538af",
   "metadata": {},
   "outputs": [
    {
     "data": {
      "text/plain": [
       "array([[12,  3],\n",
       "       [ 4,  5]])"
      ]
     },
     "execution_count": 8,
     "metadata": {},
     "output_type": "execute_result"
    }
   ],
   "source": [
    "e"
   ]
  },
  {
   "cell_type": "code",
   "execution_count": 9,
   "id": "764a67cd",
   "metadata": {},
   "outputs": [],
   "source": [
    "r=[]\n",
    "for i in range(9):\n",
    "    r.append(i)"
   ]
  },
  {
   "cell_type": "code",
   "execution_count": 10,
   "id": "e3024490",
   "metadata": {},
   "outputs": [
    {
     "data": {
      "text/plain": [
       "[0, 1, 2, 3, 4, 5, 6, 7, 8]"
      ]
     },
     "execution_count": 10,
     "metadata": {},
     "output_type": "execute_result"
    }
   ],
   "source": [
    "r"
   ]
  },
  {
   "cell_type": "code",
   "execution_count": 14,
   "id": "e50938dd",
   "metadata": {},
   "outputs": [],
   "source": [
    "t=_.resize(a,[3,3])"
   ]
  },
  {
   "cell_type": "code",
   "execution_count": 15,
   "id": "3474c89c",
   "metadata": {},
   "outputs": [
    {
     "data": {
      "text/plain": [
       "array([[12,  3,  4],\n",
       "       [ 5, 12,  3],\n",
       "       [ 4,  5, 12]])"
      ]
     },
     "execution_count": 15,
     "metadata": {},
     "output_type": "execute_result"
    }
   ],
   "source": [
    "t"
   ]
  },
  {
   "cell_type": "code",
   "execution_count": 17,
   "id": "8f6012f7",
   "metadata": {},
   "outputs": [
    {
     "data": {
      "text/plain": [
       "(3, 3)"
      ]
     },
     "execution_count": 17,
     "metadata": {},
     "output_type": "execute_result"
    }
   ],
   "source": [
    "_.shape(t)"
   ]
  },
  {
   "cell_type": "code",
   "execution_count": 21,
   "id": "543a9c19",
   "metadata": {},
   "outputs": [],
   "source": [
    "import numpy as np"
   ]
  },
  {
   "cell_type": "raw",
   "id": "20879f0a",
   "metadata": {},
   "source": []
  },
  {
   "cell_type": "code",
   "execution_count": 23,
   "id": "6f9071d5",
   "metadata": {},
   "outputs": [],
   "source": [
    "e=np.array([1,2,3],ndmin=5)"
   ]
  },
  {
   "cell_type": "code",
   "execution_count": null,
   "id": "5c701ac8",
   "metadata": {},
   "outputs": [],
   "source": []
  },
  {
   "cell_type": "code",
   "execution_count": 24,
   "id": "46479967",
   "metadata": {},
   "outputs": [
    {
     "data": {
      "text/plain": [
       "array([[[[[1, 2, 3]]]]])"
      ]
     },
     "execution_count": 24,
     "metadata": {},
     "output_type": "execute_result"
    }
   ],
   "source": [
    "e"
   ]
  },
  {
   "cell_type": "code",
   "execution_count": 28,
   "id": "1c5ef0f0",
   "metadata": {},
   "outputs": [],
   "source": [
    "a=np.arange(2,19,3)"
   ]
  },
  {
   "cell_type": "code",
   "execution_count": 29,
   "id": "e3e33b16",
   "metadata": {},
   "outputs": [
    {
     "data": {
      "text/plain": [
       "array([ 2,  5,  8, 11, 14, 17])"
      ]
     },
     "execution_count": 29,
     "metadata": {},
     "output_type": "execute_result"
    }
   ],
   "source": [
    "a"
   ]
  },
  {
   "cell_type": "code",
   "execution_count": 30,
   "id": "255a7415",
   "metadata": {},
   "outputs": [
    {
     "data": {
      "text/plain": [
       "numpy.ndarray"
      ]
     },
     "execution_count": 30,
     "metadata": {},
     "output_type": "execute_result"
    }
   ],
   "source": [
    "type(a)"
   ]
  },
  {
   "cell_type": "code",
   "execution_count": 5,
   "id": "142013ba",
   "metadata": {},
   "outputs": [],
   "source": [
    "import numpy as np\n",
    "a=np.zeros([100,100])"
   ]
  },
  {
   "cell_type": "code",
   "execution_count": 6,
   "id": "f26e5d48",
   "metadata": {},
   "outputs": [
    {
     "data": {
      "text/plain": [
       "array([[0., 0., 0., ..., 0., 0., 0.],\n",
       "       [0., 0., 0., ..., 0., 0., 0.],\n",
       "       [0., 0., 0., ..., 0., 0., 0.],\n",
       "       ...,\n",
       "       [0., 0., 0., ..., 0., 0., 0.],\n",
       "       [0., 0., 0., ..., 0., 0., 0.],\n",
       "       [0., 0., 0., ..., 0., 0., 0.]])"
      ]
     },
     "execution_count": 6,
     "metadata": {},
     "output_type": "execute_result"
    }
   ],
   "source": [
    "a"
   ]
  },
  {
   "cell_type": "code",
   "execution_count": 7,
   "id": "146c933e",
   "metadata": {},
   "outputs": [],
   "source": [
    "t=[1,2,3,4]\n",
    "a=np.asarray(t)"
   ]
  },
  {
   "cell_type": "code",
   "execution_count": 8,
   "id": "124e832f",
   "metadata": {},
   "outputs": [
    {
     "data": {
      "text/plain": [
       "array([1, 2, 3, 4])"
      ]
     },
     "execution_count": 8,
     "metadata": {},
     "output_type": "execute_result"
    }
   ],
   "source": [
    "a"
   ]
  },
  {
   "cell_type": "code",
   "execution_count": 9,
   "id": "55e9c4df",
   "metadata": {},
   "outputs": [
    {
     "name": "stdout",
     "output_type": "stream",
     "text": [
      "enter array:1,2,3,4,5,6,7\n"
     ]
    }
   ],
   "source": [
    "a=np.asarray(input(\"enter array:\"))"
   ]
  },
  {
   "cell_type": "code",
   "execution_count": 7,
   "id": "c22c2ced",
   "metadata": {},
   "outputs": [
    {
     "data": {
      "text/plain": [
       "array([[[1., 1., 1., 1., 1., 1.],\n",
       "        [1., 1., 1., 1., 1., 1.],\n",
       "        [1., 1., 1., 1., 1., 1.]],\n",
       "\n",
       "       [[1., 1., 1., 1., 1., 1.],\n",
       "        [1., 1., 1., 1., 1., 1.],\n",
       "        [1., 1., 1., 1., 1., 1.]]])"
      ]
     },
     "execution_count": 7,
     "metadata": {},
     "output_type": "execute_result"
    }
   ],
   "source": [
    "np.ones([2,3,6],order=\"C\")"
   ]
  },
  {
   "cell_type": "code",
   "execution_count": 8,
   "id": "995a4cb1",
   "metadata": {},
   "outputs": [
    {
     "data": {
      "text/plain": [
       "array([1, 1])"
      ]
     },
     "execution_count": 8,
     "metadata": {},
     "output_type": "execute_result"
    }
   ],
   "source": [
    "np.ones_like([1,23])"
   ]
  },
  {
   "cell_type": "code",
   "execution_count": 10,
   "id": "06f979b4",
   "metadata": {},
   "outputs": [
    {
     "data": {
      "text/plain": [
       "array('1,2,3,4,5,6,7', dtype='<U13')"
      ]
     },
     "execution_count": 10,
     "metadata": {},
     "output_type": "execute_result"
    }
   ],
   "source": [
    "a"
   ]
  },
  {
   "cell_type": "code",
   "execution_count": 11,
   "id": "635712c6",
   "metadata": {},
   "outputs": [
    {
     "data": {
      "text/plain": [
       "numpy.ndarray"
      ]
     },
     "execution_count": 11,
     "metadata": {},
     "output_type": "execute_result"
    }
   ],
   "source": [
    "type(a)"
   ]
  },
  {
   "cell_type": "code",
   "execution_count": 12,
   "id": "f581928e",
   "metadata": {},
   "outputs": [
    {
     "data": {
      "text/plain": [
       "array([[1., 1., 1.],\n",
       "       [1., 1., 1.]])"
      ]
     },
     "execution_count": 12,
     "metadata": {},
     "output_type": "execute_result"
    }
   ],
   "source": [
    "np.ones([2,3],order=\"C\")"
   ]
  },
  {
   "cell_type": "code",
   "execution_count": 19,
   "id": "4ab41ba8",
   "metadata": {},
   "outputs": [
    {
     "data": {
      "text/plain": [
       "array([[0., 0., 0.],\n",
       "       [0., 0., 0.]])"
      ]
     },
     "execution_count": 19,
     "metadata": {},
     "output_type": "execute_result"
    }
   ],
   "source": [
    "np.empty([2,3])"
   ]
  },
  {
   "cell_type": "code",
   "execution_count": 14,
   "id": "de88c40d",
   "metadata": {},
   "outputs": [
    {
     "data": {
      "text/plain": [
       "array([[6, 6, 6, 6, 6, 6],\n",
       "       [6, 6, 6, 6, 6, 6],\n",
       "       [6, 6, 6, 6, 6, 6]])"
      ]
     },
     "execution_count": 14,
     "metadata": {},
     "output_type": "execute_result"
    }
   ],
   "source": [
    "np.full([3,6],6)"
   ]
  },
  {
   "cell_type": "code",
   "execution_count": null,
   "id": "0a49bace",
   "metadata": {},
   "outputs": [],
   "source": []
  },
  {
   "cell_type": "code",
   "execution_count": 17,
   "id": "65df5e07",
   "metadata": {},
   "outputs": [],
   "source": [
    "w=np.array(2)"
   ]
  },
  {
   "cell_type": "code",
   "execution_count": 18,
   "id": "896ca98a",
   "metadata": {},
   "outputs": [
    {
     "data": {
      "text/plain": [
       "array(2)"
      ]
     },
     "execution_count": 18,
     "metadata": {},
     "output_type": "execute_result"
    }
   ],
   "source": [
    "w"
   ]
  },
  {
   "cell_type": "code",
   "execution_count": 19,
   "id": "3ad9fd9f",
   "metadata": {},
   "outputs": [
    {
     "data": {
      "text/plain": [
       "()"
      ]
     },
     "execution_count": 19,
     "metadata": {},
     "output_type": "execute_result"
    }
   ],
   "source": [
    "np.shape(a)"
   ]
  },
  {
   "cell_type": "code",
   "execution_count": 20,
   "id": "61cc2108",
   "metadata": {},
   "outputs": [
    {
     "data": {
      "text/plain": [
       "1"
      ]
     },
     "execution_count": 20,
     "metadata": {},
     "output_type": "execute_result"
    }
   ],
   "source": [
    "np.size(a)"
   ]
  },
  {
   "cell_type": "code",
   "execution_count": 28,
   "id": "c70291ea",
   "metadata": {},
   "outputs": [],
   "source": [
    "y=np.array(({1:2,2:3},{4:7,8:4}))"
   ]
  },
  {
   "cell_type": "code",
   "execution_count": 29,
   "id": "55ef209a",
   "metadata": {},
   "outputs": [
    {
     "data": {
      "text/plain": [
       "array([{1: 2, 2: 3}, {4: 7, 8: 4}], dtype=object)"
      ]
     },
     "execution_count": 29,
     "metadata": {},
     "output_type": "execute_result"
    }
   ],
   "source": [
    "y"
   ]
  },
  {
   "cell_type": "code",
   "execution_count": 30,
   "id": "b328b123",
   "metadata": {},
   "outputs": [
    {
     "data": {
      "text/plain": [
       "2"
      ]
     },
     "execution_count": 30,
     "metadata": {},
     "output_type": "execute_result"
    }
   ],
   "source": [
    "np.size(y)"
   ]
  },
  {
   "cell_type": "code",
   "execution_count": 31,
   "id": "b64acb04",
   "metadata": {},
   "outputs": [
    {
     "data": {
      "text/plain": [
       "(2,)"
      ]
     },
     "execution_count": 31,
     "metadata": {},
     "output_type": "execute_result"
    }
   ],
   "source": [
    "np.shape(y)"
   ]
  },
  {
   "cell_type": "code",
   "execution_count": 32,
   "id": "50021e9d",
   "metadata": {},
   "outputs": [
    {
     "data": {
      "text/plain": [
       "array([[1., 0., 0., 0.],\n",
       "       [0., 1., 0., 0.],\n",
       "       [0., 0., 1., 0.],\n",
       "       [0., 0., 0., 1.]])"
      ]
     },
     "execution_count": 32,
     "metadata": {},
     "output_type": "execute_result"
    }
   ],
   "source": [
    "np.identity(4)"
   ]
  },
  {
   "cell_type": "code",
   "execution_count": 3,
   "id": "aa1c87f5",
   "metadata": {},
   "outputs": [],
   "source": [
    "import numpy as np\n",
    "a=np.array([1,],ndmin=32)"
   ]
  },
  {
   "cell_type": "code",
   "execution_count": 4,
   "id": "bd53f716",
   "metadata": {},
   "outputs": [
    {
     "data": {
      "text/plain": [
       "array([[[[[[[[[[[[[[[[[[[[[[[[[[[[[[[[1]]]]]]]]]]]]]]]]]]]]]]]]]]]]]]]])"
      ]
     },
     "execution_count": 4,
     "metadata": {},
     "output_type": "execute_result"
    }
   ],
   "source": [
    "a"
   ]
  },
  {
   "cell_type": "code",
   "execution_count": 5,
   "id": "944eecf1",
   "metadata": {},
   "outputs": [],
   "source": [
    "q=np.arange(20).reshape(5,4)"
   ]
  },
  {
   "cell_type": "code",
   "execution_count": 35,
   "id": "39808dec",
   "metadata": {},
   "outputs": [
    {
     "data": {
      "text/plain": [
       "array([[ 0,  4,  8, 12],\n",
       "       [16, 20, 24, 28],\n",
       "       [32, 36, 40, 44],\n",
       "       [48, 52, 56, 60],\n",
       "       [64, 68, 72, 76]])"
      ]
     },
     "execution_count": 35,
     "metadata": {},
     "output_type": "execute_result"
    }
   ],
   "source": [
    "q*4"
   ]
  },
  {
   "cell_type": "code",
   "execution_count": 11,
   "id": "a4b82d57",
   "metadata": {},
   "outputs": [],
   "source": [
    "t=np.zeros_like([1,2,436,7,8,9]).reshape(3,2)"
   ]
  },
  {
   "cell_type": "code",
   "execution_count": 12,
   "id": "1eeb5fa3",
   "metadata": {},
   "outputs": [
    {
     "data": {
      "text/plain": [
       "array([[0, 0],\n",
       "       [0, 0],\n",
       "       [0, 0]])"
      ]
     },
     "execution_count": 12,
     "metadata": {},
     "output_type": "execute_result"
    }
   ],
   "source": [
    "t"
   ]
  },
  {
   "cell_type": "code",
   "execution_count": 24,
   "id": "bae3b781",
   "metadata": {},
   "outputs": [],
   "source": [
    "a=np.eye(4,4)"
   ]
  },
  {
   "cell_type": "code",
   "execution_count": 25,
   "id": "0a20d758",
   "metadata": {},
   "outputs": [
    {
     "data": {
      "text/plain": [
       "array([[1., 0., 0., 0.],\n",
       "       [0., 1., 0., 0.],\n",
       "       [0., 0., 1., 0.],\n",
       "       [0., 0., 0., 1.]])"
      ]
     },
     "execution_count": 25,
     "metadata": {},
     "output_type": "execute_result"
    }
   ],
   "source": [
    "a"
   ]
  },
  {
   "cell_type": "code",
   "execution_count": 28,
   "id": "23a5dda2",
   "metadata": {},
   "outputs": [],
   "source": [
    "o=np.eye(4,5,k=-2)"
   ]
  },
  {
   "cell_type": "code",
   "execution_count": 29,
   "id": "5109734b",
   "metadata": {},
   "outputs": [
    {
     "data": {
      "text/plain": [
       "array([[0., 0., 0., 0., 0.],\n",
       "       [0., 0., 0., 0., 0.],\n",
       "       [1., 0., 0., 0., 0.],\n",
       "       [0., 1., 0., 0., 0.]])"
      ]
     },
     "execution_count": 29,
     "metadata": {},
     "output_type": "execute_result"
    }
   ],
   "source": [
    "o"
   ]
  },
  {
   "cell_type": "code",
   "execution_count": 30,
   "id": "55a908be",
   "metadata": {},
   "outputs": [],
   "source": [
    "a=np.random.rand(7)"
   ]
  },
  {
   "cell_type": "code",
   "execution_count": 31,
   "id": "9c50c623",
   "metadata": {},
   "outputs": [
    {
     "data": {
      "text/plain": [
       "array([0.25373473, 0.842349  , 0.54281034, 0.50257895, 0.56557598,\n",
       "       0.47308766, 0.45567719])"
      ]
     },
     "execution_count": 31,
     "metadata": {},
     "output_type": "execute_result"
    }
   ],
   "source": [
    "a"
   ]
  },
  {
   "cell_type": "code",
   "execution_count": 36,
   "id": "b8c468a5",
   "metadata": {},
   "outputs": [],
   "source": [
    "a=[1,2]\n",
    "b=[3,4]\n"
   ]
  },
  {
   "cell_type": "code",
   "execution_count": 37,
   "id": "11f2cd04",
   "metadata": {},
   "outputs": [],
   "source": [
    "q=np.array(a)"
   ]
  },
  {
   "cell_type": "code",
   "execution_count": 38,
   "id": "4258575d",
   "metadata": {},
   "outputs": [],
   "source": [
    "p=np.array(b)"
   ]
  },
  {
   "cell_type": "code",
   "execution_count": 39,
   "id": "318b7a88",
   "metadata": {},
   "outputs": [
    {
     "data": {
      "text/plain": [
       "array([4, 6])"
      ]
     },
     "execution_count": 39,
     "metadata": {},
     "output_type": "execute_result"
    }
   ],
   "source": [
    "p+q"
   ]
  },
  {
   "cell_type": "code",
   "execution_count": 40,
   "id": "93bae8f7",
   "metadata": {},
   "outputs": [
    {
     "data": {
      "text/plain": [
       "array([2, 2])"
      ]
     },
     "execution_count": 40,
     "metadata": {},
     "output_type": "execute_result"
    }
   ],
   "source": [
    "p-q"
   ]
  },
  {
   "cell_type": "code",
   "execution_count": 41,
   "id": "649d4384",
   "metadata": {},
   "outputs": [
    {
     "data": {
      "text/plain": [
       "array([3, 8])"
      ]
     },
     "execution_count": 41,
     "metadata": {},
     "output_type": "execute_result"
    }
   ],
   "source": [
    "p*q"
   ]
  },
  {
   "cell_type": "code",
   "execution_count": 42,
   "id": "7c76c889",
   "metadata": {},
   "outputs": [
    {
     "data": {
      "text/plain": [
       "array([ 9, 16], dtype=int32)"
      ]
     },
     "execution_count": 42,
     "metadata": {},
     "output_type": "execute_result"
    }
   ],
   "source": [
    "p**2"
   ]
  },
  {
   "cell_type": "code",
   "execution_count": 43,
   "id": "1ea32ab7",
   "metadata": {},
   "outputs": [
    {
     "data": {
      "text/plain": [
       "array([3., 2.])"
      ]
     },
     "execution_count": 43,
     "metadata": {},
     "output_type": "execute_result"
    }
   ],
   "source": [
    "p/q"
   ]
  },
  {
   "cell_type": "code",
   "execution_count": 44,
   "id": "d88c5148",
   "metadata": {},
   "outputs": [
    {
     "data": {
      "text/plain": [
       "array([0, 0], dtype=int32)"
      ]
     },
     "execution_count": 44,
     "metadata": {},
     "output_type": "execute_result"
    }
   ],
   "source": [
    "p%q"
   ]
  },
  {
   "cell_type": "code",
   "execution_count": 47,
   "id": "244d2d68",
   "metadata": {},
   "outputs": [
    {
     "data": {
      "text/plain": [
       "array([[1],\n",
       "       [2]])"
      ]
     },
     "execution_count": 47,
     "metadata": {},
     "output_type": "execute_result"
    }
   ],
   "source": [
    "q.reshape(2,1)"
   ]
  },
  {
   "cell_type": "code",
   "execution_count": 48,
   "id": "ebcdfbd8",
   "metadata": {},
   "outputs": [
    {
     "data": {
      "text/plain": [
       "array([3, 8])"
      ]
     },
     "execution_count": 48,
     "metadata": {},
     "output_type": "execute_result"
    }
   ],
   "source": [
    "p*q"
   ]
  },
  {
   "cell_type": "code",
   "execution_count": 49,
   "id": "8dc63f87",
   "metadata": {},
   "outputs": [
    {
     "data": {
      "text/plain": [
       "array([1, 2])"
      ]
     },
     "execution_count": 49,
     "metadata": {},
     "output_type": "execute_result"
    }
   ],
   "source": [
    "q"
   ]
  },
  {
   "cell_type": "code",
   "execution_count": 50,
   "id": "49819fea",
   "metadata": {},
   "outputs": [
    {
     "data": {
      "text/plain": [
       "array([3, 4])"
      ]
     },
     "execution_count": 50,
     "metadata": {},
     "output_type": "execute_result"
    }
   ],
   "source": [
    "p"
   ]
  },
  {
   "cell_type": "code",
   "execution_count": 54,
   "id": "6b501af3",
   "metadata": {},
   "outputs": [],
   "source": [
    "w=q.reshape(1,2)"
   ]
  },
  {
   "cell_type": "code",
   "execution_count": 55,
   "id": "8cc9b19e",
   "metadata": {},
   "outputs": [
    {
     "data": {
      "text/plain": [
       "array([[1, 2]])"
      ]
     },
     "execution_count": 55,
     "metadata": {},
     "output_type": "execute_result"
    }
   ],
   "source": [
    "w"
   ]
  },
  {
   "cell_type": "code",
   "execution_count": 56,
   "id": "60bae936",
   "metadata": {},
   "outputs": [
    {
     "data": {
      "text/plain": [
       "array([[3, 8]])"
      ]
     },
     "execution_count": 56,
     "metadata": {},
     "output_type": "execute_result"
    }
   ],
   "source": [
    "p*w"
   ]
  },
  {
   "cell_type": "code",
   "execution_count": 63,
   "id": "2d7e500f",
   "metadata": {},
   "outputs": [],
   "source": [
    "q=np.array([1,2,3,4])"
   ]
  },
  {
   "cell_type": "code",
   "execution_count": 57,
   "id": "8f5d915f",
   "metadata": {},
   "outputs": [],
   "source": [
    "b=np.array([2,3])"
   ]
  },
  {
   "cell_type": "code",
   "execution_count": 64,
   "id": "942a864b",
   "metadata": {},
   "outputs": [
    {
     "data": {
      "text/plain": [
       "array([1, 2, 3, 4])"
      ]
     },
     "execution_count": 64,
     "metadata": {},
     "output_type": "execute_result"
    }
   ],
   "source": [
    "q"
   ]
  },
  {
   "cell_type": "code",
   "execution_count": 59,
   "id": "87d0e28d",
   "metadata": {},
   "outputs": [
    {
     "data": {
      "text/plain": [
       "array([3, 5])"
      ]
     },
     "execution_count": 59,
     "metadata": {},
     "output_type": "execute_result"
    }
   ],
   "source": [
    "q+b"
   ]
  },
  {
   "cell_type": "code",
   "execution_count": 62,
   "id": "796a0a2e",
   "metadata": {},
   "outputs": [
    {
     "data": {
      "text/plain": [
       "array([1, 2])"
      ]
     },
     "execution_count": 62,
     "metadata": {},
     "output_type": "execute_result"
    }
   ],
   "source": [
    "q"
   ]
  },
  {
   "cell_type": "code",
   "execution_count": 61,
   "id": "45e78711",
   "metadata": {},
   "outputs": [
    {
     "data": {
      "text/plain": [
       "array([2, 3])"
      ]
     },
     "execution_count": 61,
     "metadata": {},
     "output_type": "execute_result"
    }
   ],
   "source": [
    "b"
   ]
  },
  {
   "cell_type": "code",
   "execution_count": 66,
   "id": "ca119768",
   "metadata": {},
   "outputs": [],
   "source": [
    "o=q.reshape(2,2)"
   ]
  },
  {
   "cell_type": "code",
   "execution_count": 67,
   "id": "b2453c7c",
   "metadata": {},
   "outputs": [
    {
     "data": {
      "text/plain": [
       "array([[1, 2],\n",
       "       [3, 4]])"
      ]
     },
     "execution_count": 67,
     "metadata": {},
     "output_type": "execute_result"
    }
   ],
   "source": [
    "o"
   ]
  },
  {
   "cell_type": "code",
   "execution_count": 68,
   "id": "db4d637e",
   "metadata": {},
   "outputs": [
    {
     "data": {
      "text/plain": [
       "array([[3, 5],\n",
       "       [5, 7]])"
      ]
     },
     "execution_count": 68,
     "metadata": {},
     "output_type": "execute_result"
    }
   ],
   "source": [
    "b+o"
   ]
  },
  {
   "cell_type": "code",
   "execution_count": 1,
   "id": "0e191edd",
   "metadata": {},
   "outputs": [],
   "source": [
    "import numpy as np"
   ]
  },
  {
   "cell_type": "code",
   "execution_count": 3,
   "id": "2d7a75a3",
   "metadata": {},
   "outputs": [],
   "source": [
    "arr=np.array([4,7,2])"
   ]
  },
  {
   "cell_type": "raw",
   "id": "923e30a2",
   "metadata": {},
   "source": []
  },
  {
   "cell_type": "code",
   "execution_count": 5,
   "id": "3cb03f43",
   "metadata": {},
   "outputs": [
    {
     "data": {
      "text/plain": [
       "7"
      ]
     },
     "execution_count": 5,
     "metadata": {},
     "output_type": "execute_result"
    }
   ],
   "source": [
    "arr[1]"
   ]
  },
  {
   "cell_type": "code",
   "execution_count": 6,
   "id": "f000260d",
   "metadata": {},
   "outputs": [],
   "source": [
    "a=np.arange(1,200,6)"
   ]
  },
  {
   "cell_type": "code",
   "execution_count": 14,
   "id": "a27cf108",
   "metadata": {},
   "outputs": [
    {
     "name": "stdout",
     "output_type": "stream",
     "text": [
      "[  1   7  13  19  25  31  37  43  49  55  61  67  73  79  85  91  97 103\n",
      " 109 115 121 127 133 139 145 151 157 163 169 175 181 187 193 199]\n",
      "[  1   7  13  19  25  31  37  43  49  55  61  67  73  79  85  91  97 103\n",
      " 109 115 121 127 133 139 145 151 157 163 169 175 181 187 193 199]\n",
      "[  1   7  13  19  25  31  37  43  49  55  61  67  73  79  85  91  97 103\n",
      " 109 115 121 127 133 139 145 151 157 163 169 175 181 187 193 199]\n",
      "[  1   7  13  19  25  31  37  43  49  55  61  67  73  79  85  91  97 103\n",
      " 109 115 121 127 133 139 145 151 157 163 169 175 181 187 193 199]\n",
      "[  1   7  13  19  25  31  37  43  49  55  61  67  73  79  85  91  97 103\n",
      " 109 115 121 127 133 139 145 151 157 163 169 175 181 187 193 199]\n",
      "[  1   7  13  19  25  31  37  43  49  55  61  67  73  79  85  91  97 103\n",
      " 109 115 121 127 133 139 145 151 157 163 169 175 181 187 193 199]\n",
      "[  1   7  13  19  25  31  37  43  49  55  61  67  73  79  85  91  97 103\n",
      " 109 115 121 127 133 139 145 151 157 163 169 175 181 187 193 199]\n",
      "[  1   7  13  19  25  31  37  43  49  55  61  67  73  79  85  91  97 103\n",
      " 109 115 121 127 133 139 145 151 157 163 169 175 181 187 193 199]\n",
      "[  1   7  13  19  25  31  37  43  49  55  61  67  73  79  85  91  97 103\n",
      " 109 115 121 127 133 139 145 151 157 163 169 175 181 187 193 199]\n",
      "[  1   7  13  19  25  31  37  43  49  55  61  67  73  79  85  91  97 103\n",
      " 109 115 121 127 133 139 145 151 157 163 169 175 181 187 193 199]\n",
      "[  1   7  13  19  25  31  37  43  49  55  61  67  73  79  85  91  97 103\n",
      " 109 115 121 127 133 139 145 151 157 163 169 175 181 187 193 199]\n",
      "[  1   7  13  19  25  31  37  43  49  55  61  67  73  79  85  91  97 103\n",
      " 109 115 121 127 133 139 145 151 157 163 169 175 181 187 193 199]\n",
      "[  1   7  13  19  25  31  37  43  49  55  61  67  73  79  85  91  97 103\n",
      " 109 115 121 127 133 139 145 151 157 163 169 175 181 187 193 199]\n",
      "[  1   7  13  19  25  31  37  43  49  55  61  67  73  79  85  91  97 103\n",
      " 109 115 121 127 133 139 145 151 157 163 169 175 181 187 193 199]\n",
      "[  1   7  13  19  25  31  37  43  49  55  61  67  73  79  85  91  97 103\n",
      " 109 115 121 127 133 139 145 151 157 163 169 175 181 187 193 199]\n",
      "[  1   7  13  19  25  31  37  43  49  55  61  67  73  79  85  91  97 103\n",
      " 109 115 121 127 133 139 145 151 157 163 169 175 181 187 193 199]\n",
      "[  1   7  13  19  25  31  37  43  49  55  61  67  73  79  85  91  97 103\n",
      " 109 115 121 127 133 139 145 151 157 163 169 175 181 187 193 199]\n",
      "[  1   7  13  19  25  31  37  43  49  55  61  67  73  79  85  91  97 103\n",
      " 109 115 121 127 133 139 145 151 157 163 169 175 181 187 193 199]\n",
      "[  1   7  13  19  25  31  37  43  49  55  61  67  73  79  85  91  97 103\n",
      " 109 115 121 127 133 139 145 151 157 163 169 175 181 187 193 199]\n",
      "[  1   7  13  19  25  31  37  43  49  55  61  67  73  79  85  91  97 103\n",
      " 109 115 121 127 133 139 145 151 157 163 169 175 181 187 193 199]\n",
      "[  1   7  13  19  25  31  37  43  49  55  61  67  73  79  85  91  97 103\n",
      " 109 115 121 127 133 139 145 151 157 163 169 175 181 187 193 199]\n",
      "[  1   7  13  19  25  31  37  43  49  55  61  67  73  79  85  91  97 103\n",
      " 109 115 121 127 133 139 145 151 157 163 169 175 181 187 193 199]\n",
      "[  1   7  13  19  25  31  37  43  49  55  61  67  73  79  85  91  97 103\n",
      " 109 115 121 127 133 139 145 151 157 163 169 175 181 187 193 199]\n",
      "[  1   7  13  19  25  31  37  43  49  55  61  67  73  79  85  91  97 103\n",
      " 109 115 121 127 133 139 145 151 157 163 169 175 181 187 193 199]\n",
      "[  1   7  13  19  25  31  37  43  49  55  61  67  73  79  85  91  97 103\n",
      " 109 115 121 127 133 139 145 151 157 163 169 175 181 187 193 199]\n",
      "[  1   7  13  19  25  31  37  43  49  55  61  67  73  79  85  91  97 103\n",
      " 109 115 121 127 133 139 145 151 157 163 169 175 181 187 193 199]\n",
      "[  1   7  13  19  25  31  37  43  49  55  61  67  73  79  85  91  97 103\n",
      " 109 115 121 127 133 139 145 151 157 163 169 175 181 187 193 199]\n",
      "[  1   7  13  19  25  31  37  43  49  55  61  67  73  79  85  91  97 103\n",
      " 109 115 121 127 133 139 145 151 157 163 169 175 181 187 193 199]\n",
      "[  1   7  13  19  25  31  37  43  49  55  61  67  73  79  85  91  97 103\n",
      " 109 115 121 127 133 139 145 151 157 163 169 175 181 187 193 199]\n",
      "[  1   7  13  19  25  31  37  43  49  55  61  67  73  79  85  91  97 103\n",
      " 109 115 121 127 133 139 145 151 157 163 169 175 181 187 193 199]\n",
      "[  1   7  13  19  25  31  37  43  49  55  61  67  73  79  85  91  97 103\n",
      " 109 115 121 127 133 139 145 151 157 163 169 175 181 187 193 199]\n",
      "[  1   7  13  19  25  31  37  43  49  55  61  67  73  79  85  91  97 103\n",
      " 109 115 121 127 133 139 145 151 157 163 169 175 181 187 193 199]\n",
      "[  1   7  13  19  25  31  37  43  49  55  61  67  73  79  85  91  97 103\n",
      " 109 115 121 127 133 139 145 151 157 163 169 175 181 187 193 199]\n",
      "[  1   7  13  19  25  31  37  43  49  55  61  67  73  79  85  91  97 103\n",
      " 109 115 121 127 133 139 145 151 157 163 169 175 181 187 193 199]\n"
     ]
    }
   ],
   "source": [
    "for i in a:\n",
    "    print(a)"
   ]
  },
  {
   "cell_type": "code",
   "execution_count": 20,
   "id": "a11694ba",
   "metadata": {},
   "outputs": [
    {
     "data": {
      "text/plain": [
       "array([[  1,   8],\n",
       "       [ 15,  22],\n",
       "       [ 29,  36],\n",
       "       [ 43,  50],\n",
       "       [ 57,  64],\n",
       "       [ 71,  78],\n",
       "       [ 85,  92],\n",
       "       [ 99, 106],\n",
       "       [113, 120],\n",
       "       [127, 134],\n",
       "       [141, 148],\n",
       "       [155, 162],\n",
       "       [169, 176],\n",
       "       [183, 190],\n",
       "       [197, 204],\n",
       "       [211, 218],\n",
       "       [225, 232],\n",
       "       [239, 246],\n",
       "       [253, 260],\n",
       "       [267, 274],\n",
       "       [281, 288],\n",
       "       [295, 302],\n",
       "       [309, 316],\n",
       "       [323, 330],\n",
       "       [337, 344],\n",
       "       [351, 358],\n",
       "       [365, 372],\n",
       "       [379, 386],\n",
       "       [393, 400],\n",
       "       [407, 414],\n",
       "       [421, 428],\n",
       "       [435, 442],\n",
       "       [449, 456],\n",
       "       [463, 470],\n",
       "       [477, 484]])"
      ]
     },
     "execution_count": 20,
     "metadata": {},
     "output_type": "execute_result"
    }
   ],
   "source": [
    "a=np.arange(1,490,7)\n",
    "np.reshape(a,[35,2])"
   ]
  },
  {
   "cell_type": "code",
   "execution_count": 42,
   "id": "6e44dc9c",
   "metadata": {},
   "outputs": [
    {
     "name": "stdout",
     "output_type": "stream",
     "text": [
      "elemnet found at 0 and 0 is 1\n",
      "elemnet found at 0 and 1 is 8\n",
      "elemnet found at 1 and 0 is 15\n",
      "elemnet found at 1 and 1 is 22\n",
      "elemnet found at 2 and 0 is 29\n",
      "elemnet found at 2 and 1 is 36\n",
      "elemnet found at 3 and 0 is 43\n",
      "elemnet found at 3 and 1 is 50\n",
      "elemnet found at 4 and 0 is 57\n",
      "elemnet found at 4 and 1 is 64\n",
      "elemnet found at 5 and 0 is 71\n",
      "elemnet found at 5 and 1 is 78\n",
      "elemnet found at 6 and 0 is 85\n",
      "elemnet found at 6 and 1 is 92\n",
      "elemnet found at 7 and 0 is 99\n",
      "elemnet found at 7 and 1 is 106\n",
      "elemnet found at 8 and 0 is 113\n",
      "elemnet found at 8 and 1 is 120\n",
      "elemnet found at 9 and 0 is 127\n",
      "elemnet found at 9 and 1 is 134\n",
      "elemnet found at 10 and 0 is 141\n",
      "elemnet found at 10 and 1 is 148\n",
      "elemnet found at 11 and 0 is 155\n",
      "elemnet found at 11 and 1 is 162\n",
      "elemnet found at 12 and 0 is 169\n",
      "elemnet found at 12 and 1 is 176\n",
      "elemnet found at 13 and 0 is 183\n",
      "elemnet found at 13 and 1 is 190\n",
      "elemnet found at 14 and 0 is 197\n",
      "elemnet found at 14 and 1 is 204\n",
      "elemnet found at 15 and 0 is 211\n",
      "elemnet found at 15 and 1 is 218\n",
      "elemnet found at 16 and 0 is 225\n",
      "elemnet found at 16 and 1 is 232\n",
      "elemnet found at 17 and 0 is 239\n",
      "elemnet found at 17 and 1 is 246\n",
      "elemnet found at 18 and 0 is 253\n",
      "elemnet found at 18 and 1 is 260\n",
      "elemnet found at 19 and 0 is 267\n",
      "elemnet found at 19 and 1 is 274\n",
      "elemnet found at 20 and 0 is 281\n",
      "elemnet found at 20 and 1 is 288\n",
      "elemnet found at 21 and 0 is 295\n",
      "elemnet found at 21 and 1 is 302\n",
      "elemnet found at 22 and 0 is 309\n",
      "elemnet found at 22 and 1 is 316\n",
      "elemnet found at 23 and 0 is 323\n",
      "elemnet found at 23 and 1 is 330\n",
      "elemnet found at 24 and 0 is 337\n",
      "elemnet found at 24 and 1 is 344\n",
      "elemnet found at 25 and 0 is 351\n",
      "elemnet found at 25 and 1 is 358\n",
      "elemnet found at 26 and 0 is 365\n",
      "elemnet found at 26 and 1 is 372\n",
      "elemnet found at 27 and 0 is 379\n",
      "elemnet found at 27 and 1 is 386\n",
      "elemnet found at 28 and 0 is 393\n",
      "elemnet found at 28 and 1 is 400\n"
     ]
    }
   ],
   "source": [
    "a=np.arange(1,490,7)\n",
    "r=np.reshape(a,[35,2])\n",
    "for i in range(29):\n",
    "    for j in range(2):\n",
    "        print(\"elemnet found at\",i,\"and\",j,\"is\",r[i][j])"
   ]
  },
  {
   "cell_type": "code",
   "execution_count": 40,
   "id": "d449631f",
   "metadata": {},
   "outputs": [
    {
     "data": {
      "text/plain": [
       "array([[  1,   8],\n",
       "       [ 15,  22],\n",
       "       [ 29,  36],\n",
       "       [ 43,  50],\n",
       "       [ 57,  64],\n",
       "       [ 71,  78],\n",
       "       [ 85,  92],\n",
       "       [ 99, 106],\n",
       "       [113, 120],\n",
       "       [127, 134],\n",
       "       [141, 148],\n",
       "       [155, 162],\n",
       "       [169, 176],\n",
       "       [183, 190],\n",
       "       [197, 204],\n",
       "       [211, 218],\n",
       "       [225, 232],\n",
       "       [239, 246],\n",
       "       [253, 260],\n",
       "       [267, 274],\n",
       "       [281, 288],\n",
       "       [295, 302],\n",
       "       [309, 316],\n",
       "       [323, 330],\n",
       "       [337, 344],\n",
       "       [351, 358],\n",
       "       [365, 372],\n",
       "       [379, 386],\n",
       "       [393, 400],\n",
       "       [407, 414],\n",
       "       [421, 428],\n",
       "       [435, 442],\n",
       "       [449, 456],\n",
       "       [463, 470],\n",
       "       [477, 484]])"
      ]
     },
     "execution_count": 40,
     "metadata": {},
     "output_type": "execute_result"
    }
   ],
   "source": [
    "r"
   ]
  },
  {
   "cell_type": "code",
   "execution_count": 43,
   "id": "0cb6589c",
   "metadata": {},
   "outputs": [],
   "source": [
    "q=np.arange(1,900,3)"
   ]
  },
  {
   "cell_type": "code",
   "execution_count": 45,
   "id": "750b6297",
   "metadata": {},
   "outputs": [
    {
     "data": {
      "text/plain": [
       "300"
      ]
     },
     "execution_count": 45,
     "metadata": {},
     "output_type": "execute_result"
    }
   ],
   "source": [
    "len(q)"
   ]
  },
  {
   "cell_type": "code",
   "execution_count": 47,
   "id": "4dc1be2e",
   "metadata": {},
   "outputs": [],
   "source": [
    "w=np.reshape(q,[75,2,2])"
   ]
  },
  {
   "cell_type": "code",
   "execution_count": 48,
   "id": "a1e8e49d",
   "metadata": {},
   "outputs": [
    {
     "data": {
      "text/plain": [
       "array([[[  1,   4],\n",
       "        [  7,  10]],\n",
       "\n",
       "       [[ 13,  16],\n",
       "        [ 19,  22]],\n",
       "\n",
       "       [[ 25,  28],\n",
       "        [ 31,  34]],\n",
       "\n",
       "       [[ 37,  40],\n",
       "        [ 43,  46]],\n",
       "\n",
       "       [[ 49,  52],\n",
       "        [ 55,  58]],\n",
       "\n",
       "       [[ 61,  64],\n",
       "        [ 67,  70]],\n",
       "\n",
       "       [[ 73,  76],\n",
       "        [ 79,  82]],\n",
       "\n",
       "       [[ 85,  88],\n",
       "        [ 91,  94]],\n",
       "\n",
       "       [[ 97, 100],\n",
       "        [103, 106]],\n",
       "\n",
       "       [[109, 112],\n",
       "        [115, 118]],\n",
       "\n",
       "       [[121, 124],\n",
       "        [127, 130]],\n",
       "\n",
       "       [[133, 136],\n",
       "        [139, 142]],\n",
       "\n",
       "       [[145, 148],\n",
       "        [151, 154]],\n",
       "\n",
       "       [[157, 160],\n",
       "        [163, 166]],\n",
       "\n",
       "       [[169, 172],\n",
       "        [175, 178]],\n",
       "\n",
       "       [[181, 184],\n",
       "        [187, 190]],\n",
       "\n",
       "       [[193, 196],\n",
       "        [199, 202]],\n",
       "\n",
       "       [[205, 208],\n",
       "        [211, 214]],\n",
       "\n",
       "       [[217, 220],\n",
       "        [223, 226]],\n",
       "\n",
       "       [[229, 232],\n",
       "        [235, 238]],\n",
       "\n",
       "       [[241, 244],\n",
       "        [247, 250]],\n",
       "\n",
       "       [[253, 256],\n",
       "        [259, 262]],\n",
       "\n",
       "       [[265, 268],\n",
       "        [271, 274]],\n",
       "\n",
       "       [[277, 280],\n",
       "        [283, 286]],\n",
       "\n",
       "       [[289, 292],\n",
       "        [295, 298]],\n",
       "\n",
       "       [[301, 304],\n",
       "        [307, 310]],\n",
       "\n",
       "       [[313, 316],\n",
       "        [319, 322]],\n",
       "\n",
       "       [[325, 328],\n",
       "        [331, 334]],\n",
       "\n",
       "       [[337, 340],\n",
       "        [343, 346]],\n",
       "\n",
       "       [[349, 352],\n",
       "        [355, 358]],\n",
       "\n",
       "       [[361, 364],\n",
       "        [367, 370]],\n",
       "\n",
       "       [[373, 376],\n",
       "        [379, 382]],\n",
       "\n",
       "       [[385, 388],\n",
       "        [391, 394]],\n",
       "\n",
       "       [[397, 400],\n",
       "        [403, 406]],\n",
       "\n",
       "       [[409, 412],\n",
       "        [415, 418]],\n",
       "\n",
       "       [[421, 424],\n",
       "        [427, 430]],\n",
       "\n",
       "       [[433, 436],\n",
       "        [439, 442]],\n",
       "\n",
       "       [[445, 448],\n",
       "        [451, 454]],\n",
       "\n",
       "       [[457, 460],\n",
       "        [463, 466]],\n",
       "\n",
       "       [[469, 472],\n",
       "        [475, 478]],\n",
       "\n",
       "       [[481, 484],\n",
       "        [487, 490]],\n",
       "\n",
       "       [[493, 496],\n",
       "        [499, 502]],\n",
       "\n",
       "       [[505, 508],\n",
       "        [511, 514]],\n",
       "\n",
       "       [[517, 520],\n",
       "        [523, 526]],\n",
       "\n",
       "       [[529, 532],\n",
       "        [535, 538]],\n",
       "\n",
       "       [[541, 544],\n",
       "        [547, 550]],\n",
       "\n",
       "       [[553, 556],\n",
       "        [559, 562]],\n",
       "\n",
       "       [[565, 568],\n",
       "        [571, 574]],\n",
       "\n",
       "       [[577, 580],\n",
       "        [583, 586]],\n",
       "\n",
       "       [[589, 592],\n",
       "        [595, 598]],\n",
       "\n",
       "       [[601, 604],\n",
       "        [607, 610]],\n",
       "\n",
       "       [[613, 616],\n",
       "        [619, 622]],\n",
       "\n",
       "       [[625, 628],\n",
       "        [631, 634]],\n",
       "\n",
       "       [[637, 640],\n",
       "        [643, 646]],\n",
       "\n",
       "       [[649, 652],\n",
       "        [655, 658]],\n",
       "\n",
       "       [[661, 664],\n",
       "        [667, 670]],\n",
       "\n",
       "       [[673, 676],\n",
       "        [679, 682]],\n",
       "\n",
       "       [[685, 688],\n",
       "        [691, 694]],\n",
       "\n",
       "       [[697, 700],\n",
       "        [703, 706]],\n",
       "\n",
       "       [[709, 712],\n",
       "        [715, 718]],\n",
       "\n",
       "       [[721, 724],\n",
       "        [727, 730]],\n",
       "\n",
       "       [[733, 736],\n",
       "        [739, 742]],\n",
       "\n",
       "       [[745, 748],\n",
       "        [751, 754]],\n",
       "\n",
       "       [[757, 760],\n",
       "        [763, 766]],\n",
       "\n",
       "       [[769, 772],\n",
       "        [775, 778]],\n",
       "\n",
       "       [[781, 784],\n",
       "        [787, 790]],\n",
       "\n",
       "       [[793, 796],\n",
       "        [799, 802]],\n",
       "\n",
       "       [[805, 808],\n",
       "        [811, 814]],\n",
       "\n",
       "       [[817, 820],\n",
       "        [823, 826]],\n",
       "\n",
       "       [[829, 832],\n",
       "        [835, 838]],\n",
       "\n",
       "       [[841, 844],\n",
       "        [847, 850]],\n",
       "\n",
       "       [[853, 856],\n",
       "        [859, 862]],\n",
       "\n",
       "       [[865, 868],\n",
       "        [871, 874]],\n",
       "\n",
       "       [[877, 880],\n",
       "        [883, 886]],\n",
       "\n",
       "       [[889, 892],\n",
       "        [895, 898]]])"
      ]
     },
     "execution_count": 48,
     "metadata": {},
     "output_type": "execute_result"
    }
   ],
   "source": [
    "w"
   ]
  },
  {
   "cell_type": "code",
   "execution_count": 52,
   "id": "605526b8",
   "metadata": {},
   "outputs": [
    {
     "name": "stdout",
     "output_type": "stream",
     "text": [
      "Element is found at 0 , 0 and 0 is 1\n",
      "Element is found at 0 , 0 and 1 is 4\n",
      "Element is found at 0 , 1 and 0 is 7\n",
      "Element is found at 0 , 1 and 1 is 10\n",
      "Element is found at 1 , 0 and 0 is 13\n",
      "Element is found at 1 , 0 and 1 is 16\n",
      "Element is found at 1 , 1 and 0 is 19\n",
      "Element is found at 1 , 1 and 1 is 22\n",
      "Element is found at 2 , 0 and 0 is 25\n",
      "Element is found at 2 , 0 and 1 is 28\n",
      "Element is found at 2 , 1 and 0 is 31\n",
      "Element is found at 2 , 1 and 1 is 34\n",
      "Element is found at 3 , 0 and 0 is 37\n",
      "Element is found at 3 , 0 and 1 is 40\n",
      "Element is found at 3 , 1 and 0 is 43\n",
      "Element is found at 3 , 1 and 1 is 46\n",
      "Element is found at 4 , 0 and 0 is 49\n",
      "Element is found at 4 , 0 and 1 is 52\n",
      "Element is found at 4 , 1 and 0 is 55\n",
      "Element is found at 4 , 1 and 1 is 58\n",
      "Element is found at 5 , 0 and 0 is 61\n",
      "Element is found at 5 , 0 and 1 is 64\n",
      "Element is found at 5 , 1 and 0 is 67\n",
      "Element is found at 5 , 1 and 1 is 70\n",
      "Element is found at 6 , 0 and 0 is 73\n",
      "Element is found at 6 , 0 and 1 is 76\n",
      "Element is found at 6 , 1 and 0 is 79\n",
      "Element is found at 6 , 1 and 1 is 82\n",
      "Element is found at 7 , 0 and 0 is 85\n",
      "Element is found at 7 , 0 and 1 is 88\n",
      "Element is found at 7 , 1 and 0 is 91\n",
      "Element is found at 7 , 1 and 1 is 94\n",
      "Element is found at 8 , 0 and 0 is 97\n",
      "Element is found at 8 , 0 and 1 is 100\n",
      "Element is found at 8 , 1 and 0 is 103\n",
      "Element is found at 8 , 1 and 1 is 106\n",
      "Element is found at 9 , 0 and 0 is 109\n",
      "Element is found at 9 , 0 and 1 is 112\n",
      "Element is found at 9 , 1 and 0 is 115\n",
      "Element is found at 9 , 1 and 1 is 118\n",
      "Element is found at 10 , 0 and 0 is 121\n",
      "Element is found at 10 , 0 and 1 is 124\n",
      "Element is found at 10 , 1 and 0 is 127\n",
      "Element is found at 10 , 1 and 1 is 130\n",
      "Element is found at 11 , 0 and 0 is 133\n",
      "Element is found at 11 , 0 and 1 is 136\n",
      "Element is found at 11 , 1 and 0 is 139\n",
      "Element is found at 11 , 1 and 1 is 142\n",
      "Element is found at 12 , 0 and 0 is 145\n",
      "Element is found at 12 , 0 and 1 is 148\n",
      "Element is found at 12 , 1 and 0 is 151\n",
      "Element is found at 12 , 1 and 1 is 154\n",
      "Element is found at 13 , 0 and 0 is 157\n",
      "Element is found at 13 , 0 and 1 is 160\n",
      "Element is found at 13 , 1 and 0 is 163\n",
      "Element is found at 13 , 1 and 1 is 166\n",
      "Element is found at 14 , 0 and 0 is 169\n",
      "Element is found at 14 , 0 and 1 is 172\n",
      "Element is found at 14 , 1 and 0 is 175\n",
      "Element is found at 14 , 1 and 1 is 178\n",
      "Element is found at 15 , 0 and 0 is 181\n",
      "Element is found at 15 , 0 and 1 is 184\n",
      "Element is found at 15 , 1 and 0 is 187\n",
      "Element is found at 15 , 1 and 1 is 190\n",
      "Element is found at 16 , 0 and 0 is 193\n",
      "Element is found at 16 , 0 and 1 is 196\n",
      "Element is found at 16 , 1 and 0 is 199\n",
      "Element is found at 16 , 1 and 1 is 202\n",
      "Element is found at 17 , 0 and 0 is 205\n",
      "Element is found at 17 , 0 and 1 is 208\n",
      "Element is found at 17 , 1 and 0 is 211\n",
      "Element is found at 17 , 1 and 1 is 214\n",
      "Element is found at 18 , 0 and 0 is 217\n",
      "Element is found at 18 , 0 and 1 is 220\n",
      "Element is found at 18 , 1 and 0 is 223\n",
      "Element is found at 18 , 1 and 1 is 226\n",
      "Element is found at 19 , 0 and 0 is 229\n",
      "Element is found at 19 , 0 and 1 is 232\n",
      "Element is found at 19 , 1 and 0 is 235\n",
      "Element is found at 19 , 1 and 1 is 238\n",
      "Element is found at 20 , 0 and 0 is 241\n",
      "Element is found at 20 , 0 and 1 is 244\n",
      "Element is found at 20 , 1 and 0 is 247\n",
      "Element is found at 20 , 1 and 1 is 250\n",
      "Element is found at 21 , 0 and 0 is 253\n",
      "Element is found at 21 , 0 and 1 is 256\n",
      "Element is found at 21 , 1 and 0 is 259\n",
      "Element is found at 21 , 1 and 1 is 262\n",
      "Element is found at 22 , 0 and 0 is 265\n",
      "Element is found at 22 , 0 and 1 is 268\n",
      "Element is found at 22 , 1 and 0 is 271\n",
      "Element is found at 22 , 1 and 1 is 274\n",
      "Element is found at 23 , 0 and 0 is 277\n",
      "Element is found at 23 , 0 and 1 is 280\n",
      "Element is found at 23 , 1 and 0 is 283\n",
      "Element is found at 23 , 1 and 1 is 286\n",
      "Element is found at 24 , 0 and 0 is 289\n",
      "Element is found at 24 , 0 and 1 is 292\n",
      "Element is found at 24 , 1 and 0 is 295\n",
      "Element is found at 24 , 1 and 1 is 298\n",
      "Element is found at 25 , 0 and 0 is 301\n",
      "Element is found at 25 , 0 and 1 is 304\n",
      "Element is found at 25 , 1 and 0 is 307\n",
      "Element is found at 25 , 1 and 1 is 310\n",
      "Element is found at 26 , 0 and 0 is 313\n",
      "Element is found at 26 , 0 and 1 is 316\n",
      "Element is found at 26 , 1 and 0 is 319\n",
      "Element is found at 26 , 1 and 1 is 322\n",
      "Element is found at 27 , 0 and 0 is 325\n",
      "Element is found at 27 , 0 and 1 is 328\n",
      "Element is found at 27 , 1 and 0 is 331\n",
      "Element is found at 27 , 1 and 1 is 334\n",
      "Element is found at 28 , 0 and 0 is 337\n",
      "Element is found at 28 , 0 and 1 is 340\n",
      "Element is found at 28 , 1 and 0 is 343\n",
      "Element is found at 28 , 1 and 1 is 346\n",
      "Element is found at 29 , 0 and 0 is 349\n",
      "Element is found at 29 , 0 and 1 is 352\n",
      "Element is found at 29 , 1 and 0 is 355\n",
      "Element is found at 29 , 1 and 1 is 358\n",
      "Element is found at 30 , 0 and 0 is 361\n",
      "Element is found at 30 , 0 and 1 is 364\n",
      "Element is found at 30 , 1 and 0 is 367\n",
      "Element is found at 30 , 1 and 1 is 370\n",
      "Element is found at 31 , 0 and 0 is 373\n",
      "Element is found at 31 , 0 and 1 is 376\n",
      "Element is found at 31 , 1 and 0 is 379\n",
      "Element is found at 31 , 1 and 1 is 382\n",
      "Element is found at 32 , 0 and 0 is 385\n",
      "Element is found at 32 , 0 and 1 is 388\n",
      "Element is found at 32 , 1 and 0 is 391\n",
      "Element is found at 32 , 1 and 1 is 394\n",
      "Element is found at 33 , 0 and 0 is 397\n",
      "Element is found at 33 , 0 and 1 is 400\n",
      "Element is found at 33 , 1 and 0 is 403\n",
      "Element is found at 33 , 1 and 1 is 406\n",
      "Element is found at 34 , 0 and 0 is 409\n",
      "Element is found at 34 , 0 and 1 is 412\n",
      "Element is found at 34 , 1 and 0 is 415\n",
      "Element is found at 34 , 1 and 1 is 418\n",
      "Element is found at 35 , 0 and 0 is 421\n",
      "Element is found at 35 , 0 and 1 is 424\n",
      "Element is found at 35 , 1 and 0 is 427\n",
      "Element is found at 35 , 1 and 1 is 430\n",
      "Element is found at 36 , 0 and 0 is 433\n",
      "Element is found at 36 , 0 and 1 is 436\n",
      "Element is found at 36 , 1 and 0 is 439\n",
      "Element is found at 36 , 1 and 1 is 442\n",
      "Element is found at 37 , 0 and 0 is 445\n",
      "Element is found at 37 , 0 and 1 is 448\n",
      "Element is found at 37 , 1 and 0 is 451\n",
      "Element is found at 37 , 1 and 1 is 454\n",
      "Element is found at 38 , 0 and 0 is 457\n",
      "Element is found at 38 , 0 and 1 is 460\n",
      "Element is found at 38 , 1 and 0 is 463\n",
      "Element is found at 38 , 1 and 1 is 466\n",
      "Element is found at 39 , 0 and 0 is 469\n",
      "Element is found at 39 , 0 and 1 is 472\n",
      "Element is found at 39 , 1 and 0 is 475\n",
      "Element is found at 39 , 1 and 1 is 478\n",
      "Element is found at 40 , 0 and 0 is 481\n",
      "Element is found at 40 , 0 and 1 is 484\n",
      "Element is found at 40 , 1 and 0 is 487\n",
      "Element is found at 40 , 1 and 1 is 490\n",
      "Element is found at 41 , 0 and 0 is 493\n",
      "Element is found at 41 , 0 and 1 is 496\n",
      "Element is found at 41 , 1 and 0 is 499\n",
      "Element is found at 41 , 1 and 1 is 502\n",
      "Element is found at 42 , 0 and 0 is 505\n",
      "Element is found at 42 , 0 and 1 is 508\n",
      "Element is found at 42 , 1 and 0 is 511\n",
      "Element is found at 42 , 1 and 1 is 514\n",
      "Element is found at 43 , 0 and 0 is 517\n",
      "Element is found at 43 , 0 and 1 is 520\n",
      "Element is found at 43 , 1 and 0 is 523\n",
      "Element is found at 43 , 1 and 1 is 526\n",
      "Element is found at 44 , 0 and 0 is 529\n",
      "Element is found at 44 , 0 and 1 is 532\n",
      "Element is found at 44 , 1 and 0 is 535\n",
      "Element is found at 44 , 1 and 1 is 538\n",
      "Element is found at 45 , 0 and 0 is 541\n",
      "Element is found at 45 , 0 and 1 is 544\n",
      "Element is found at 45 , 1 and 0 is 547\n",
      "Element is found at 45 , 1 and 1 is 550\n",
      "Element is found at 46 , 0 and 0 is 553\n",
      "Element is found at 46 , 0 and 1 is 556\n",
      "Element is found at 46 , 1 and 0 is 559\n",
      "Element is found at 46 , 1 and 1 is 562\n",
      "Element is found at 47 , 0 and 0 is 565\n",
      "Element is found at 47 , 0 and 1 is 568\n",
      "Element is found at 47 , 1 and 0 is 571\n",
      "Element is found at 47 , 1 and 1 is 574\n",
      "Element is found at 48 , 0 and 0 is 577\n",
      "Element is found at 48 , 0 and 1 is 580\n",
      "Element is found at 48 , 1 and 0 is 583\n",
      "Element is found at 48 , 1 and 1 is 586\n",
      "Element is found at 49 , 0 and 0 is 589\n",
      "Element is found at 49 , 0 and 1 is 592\n",
      "Element is found at 49 , 1 and 0 is 595\n",
      "Element is found at 49 , 1 and 1 is 598\n",
      "Element is found at 50 , 0 and 0 is 601\n",
      "Element is found at 50 , 0 and 1 is 604\n",
      "Element is found at 50 , 1 and 0 is 607\n",
      "Element is found at 50 , 1 and 1 is 610\n",
      "Element is found at 51 , 0 and 0 is 613\n",
      "Element is found at 51 , 0 and 1 is 616\n",
      "Element is found at 51 , 1 and 0 is 619\n",
      "Element is found at 51 , 1 and 1 is 622\n",
      "Element is found at 52 , 0 and 0 is 625\n",
      "Element is found at 52 , 0 and 1 is 628\n",
      "Element is found at 52 , 1 and 0 is 631\n",
      "Element is found at 52 , 1 and 1 is 634\n",
      "Element is found at 53 , 0 and 0 is 637\n",
      "Element is found at 53 , 0 and 1 is 640\n",
      "Element is found at 53 , 1 and 0 is 643\n",
      "Element is found at 53 , 1 and 1 is 646\n",
      "Element is found at 54 , 0 and 0 is 649\n",
      "Element is found at 54 , 0 and 1 is 652\n",
      "Element is found at 54 , 1 and 0 is 655\n",
      "Element is found at 54 , 1 and 1 is 658\n",
      "Element is found at 55 , 0 and 0 is 661\n",
      "Element is found at 55 , 0 and 1 is 664\n",
      "Element is found at 55 , 1 and 0 is 667\n",
      "Element is found at 55 , 1 and 1 is 670\n",
      "Element is found at 56 , 0 and 0 is 673\n",
      "Element is found at 56 , 0 and 1 is 676\n",
      "Element is found at 56 , 1 and 0 is 679\n",
      "Element is found at 56 , 1 and 1 is 682\n",
      "Element is found at 57 , 0 and 0 is 685\n",
      "Element is found at 57 , 0 and 1 is 688\n",
      "Element is found at 57 , 1 and 0 is 691\n",
      "Element is found at 57 , 1 and 1 is 694\n",
      "Element is found at 58 , 0 and 0 is 697\n",
      "Element is found at 58 , 0 and 1 is 700\n",
      "Element is found at 58 , 1 and 0 is 703\n",
      "Element is found at 58 , 1 and 1 is 706\n",
      "Element is found at 59 , 0 and 0 is 709\n",
      "Element is found at 59 , 0 and 1 is 712\n",
      "Element is found at 59 , 1 and 0 is 715\n",
      "Element is found at 59 , 1 and 1 is 718\n",
      "Element is found at 60 , 0 and 0 is 721\n",
      "Element is found at 60 , 0 and 1 is 724\n",
      "Element is found at 60 , 1 and 0 is 727\n",
      "Element is found at 60 , 1 and 1 is 730\n",
      "Element is found at 61 , 0 and 0 is 733\n",
      "Element is found at 61 , 0 and 1 is 736\n",
      "Element is found at 61 , 1 and 0 is 739\n",
      "Element is found at 61 , 1 and 1 is 742\n",
      "Element is found at 62 , 0 and 0 is 745\n",
      "Element is found at 62 , 0 and 1 is 748\n",
      "Element is found at 62 , 1 and 0 is 751\n",
      "Element is found at 62 , 1 and 1 is 754\n",
      "Element is found at 63 , 0 and 0 is 757\n",
      "Element is found at 63 , 0 and 1 is 760\n",
      "Element is found at 63 , 1 and 0 is 763\n",
      "Element is found at 63 , 1 and 1 is 766\n",
      "Element is found at 64 , 0 and 0 is 769\n",
      "Element is found at 64 , 0 and 1 is 772\n",
      "Element is found at 64 , 1 and 0 is 775\n",
      "Element is found at 64 , 1 and 1 is 778\n",
      "Element is found at 65 , 0 and 0 is 781\n",
      "Element is found at 65 , 0 and 1 is 784\n",
      "Element is found at 65 , 1 and 0 is 787\n",
      "Element is found at 65 , 1 and 1 is 790\n",
      "Element is found at 66 , 0 and 0 is 793\n",
      "Element is found at 66 , 0 and 1 is 796\n",
      "Element is found at 66 , 1 and 0 is 799\n",
      "Element is found at 66 , 1 and 1 is 802\n",
      "Element is found at 67 , 0 and 0 is 805\n",
      "Element is found at 67 , 0 and 1 is 808\n",
      "Element is found at 67 , 1 and 0 is 811\n",
      "Element is found at 67 , 1 and 1 is 814\n",
      "Element is found at 68 , 0 and 0 is 817\n",
      "Element is found at 68 , 0 and 1 is 820\n",
      "Element is found at 68 , 1 and 0 is 823\n",
      "Element is found at 68 , 1 and 1 is 826\n",
      "Element is found at 69 , 0 and 0 is 829\n",
      "Element is found at 69 , 0 and 1 is 832\n",
      "Element is found at 69 , 1 and 0 is 835\n",
      "Element is found at 69 , 1 and 1 is 838\n",
      "Element is found at 70 , 0 and 0 is 841\n",
      "Element is found at 70 , 0 and 1 is 844\n",
      "Element is found at 70 , 1 and 0 is 847\n",
      "Element is found at 70 , 1 and 1 is 850\n",
      "Element is found at 71 , 0 and 0 is 853\n",
      "Element is found at 71 , 0 and 1 is 856\n",
      "Element is found at 71 , 1 and 0 is 859\n",
      "Element is found at 71 , 1 and 1 is 862\n",
      "Element is found at 72 , 0 and 0 is 865\n",
      "Element is found at 72 , 0 and 1 is 868\n",
      "Element is found at 72 , 1 and 0 is 871\n",
      "Element is found at 72 , 1 and 1 is 874\n",
      "Element is found at 73 , 0 and 0 is 877\n",
      "Element is found at 73 , 0 and 1 is 880\n",
      "Element is found at 73 , 1 and 0 is 883\n",
      "Element is found at 73 , 1 and 1 is 886\n"
     ]
    }
   ],
   "source": [
    "for i in range(74):\n",
    "    for j in range(2):\n",
    "        for k in range(2):\n",
    "            print(\"Element is found at\",i,\",\",j,\"and\",k,\"is\",w[i][j][k])"
   ]
  },
  {
   "cell_type": "code",
   "execution_count": 28,
   "id": "8622621b",
   "metadata": {},
   "outputs": [
    {
     "name": "stdout",
     "output_type": "stream",
     "text": [
      "Elemnet is : 8\n",
      "Elemnet is : 22\n",
      "Elemnet is : 36\n",
      "Elemnet is : 50\n",
      "Elemnet is : 64\n",
      "Elemnet is : 78\n",
      "Elemnet is : 92\n",
      "Elemnet is : 106\n",
      "Elemnet is : 120\n",
      "Elemnet is : 134\n",
      "Elemnet is : 148\n",
      "Elemnet is : 162\n",
      "Elemnet is : 176\n",
      "Elemnet is : 190\n",
      "Elemnet is : 204\n",
      "Elemnet is : 218\n",
      "Elemnet is : 232\n",
      "Elemnet is : 246\n",
      "Elemnet is : 260\n",
      "Elemnet is : 274\n",
      "Elemnet is : 288\n",
      "Elemnet is : 302\n",
      "Elemnet is : 316\n",
      "Elemnet is : 330\n",
      "Elemnet is : 344\n",
      "Elemnet is : 358\n",
      "Elemnet is : 372\n",
      "Elemnet is : 386\n",
      "Elemnet is : 400\n",
      "Elemnet is : 414\n",
      "Elemnet is : 428\n",
      "Elemnet is : 442\n",
      "Elemnet is : 456\n",
      "Elemnet is : 470\n",
      "Elemnet is : 484\n"
     ]
    }
   ],
   "source": [
    "a=np.arange(1,490,7)\n",
    "for i in a:\n",
    "    if (i%2==0):\n",
    "        print(\"Elemnet is :\",i)"
   ]
  },
  {
   "cell_type": "code",
   "execution_count": null,
   "id": "704641c5",
   "metadata": {},
   "outputs": [],
   "source": []
  },
  {
   "cell_type": "code",
   "execution_count": 58,
   "id": "fcf516ed",
   "metadata": {},
   "outputs": [
    {
     "data": {
      "text/plain": [
       "array([  1,   8,  15,  22,  29,  36,  43,  50,  57,  64,  71,  78,  85,\n",
       "        92,  99, 106, 113, 120, 127, 134, 141, 148, 155, 162, 169, 176,\n",
       "       183, 190, 197, 204, 211, 218, 225, 232, 239, 246, 253, 260, 267,\n",
       "       274, 281, 288, 295, 302, 309, 316, 323, 330, 337, 344, 351, 358,\n",
       "       365, 372, 379, 386, 393, 400, 407, 414, 421, 428, 435, 442, 449,\n",
       "       456, 463, 470, 477, 484])"
      ]
     },
     "execution_count": 58,
     "metadata": {},
     "output_type": "execute_result"
    }
   ],
   "source": [
    "a"
   ]
  },
  {
   "cell_type": "code",
   "execution_count": 2,
   "id": "ae0f8e65",
   "metadata": {},
   "outputs": [],
   "source": [
    "import numpy as np\n",
    "a=np.arange(1,200,6)\n"
   ]
  },
  {
   "cell_type": "code",
   "execution_count": 3,
   "id": "6a870bf3",
   "metadata": {},
   "outputs": [
    {
     "data": {
      "text/plain": [
       "array([  1,   7,  13,  19,  25,  31,  37,  43,  49,  55,  61,  67,  73,\n",
       "        79,  85,  91,  97, 103, 109, 115, 121, 127, 133, 139, 145, 151,\n",
       "       157, 163, 169, 175, 181, 187, 193, 199])"
      ]
     },
     "execution_count": 3,
     "metadata": {},
     "output_type": "execute_result"
    }
   ],
   "source": [
    "a"
   ]
  },
  {
   "cell_type": "code",
   "execution_count": 4,
   "id": "09a90ece",
   "metadata": {},
   "outputs": [
    {
     "data": {
      "text/plain": [
       "array([103, 109, 115, 121, 127, 133, 139, 145, 151, 157, 163, 169, 175,\n",
       "       181, 187, 193, 199])"
      ]
     },
     "execution_count": 4,
     "metadata": {},
     "output_type": "execute_result"
    }
   ],
   "source": [
    "a[a>100]"
   ]
  },
  {
   "cell_type": "code",
   "execution_count": 16,
   "id": "ad93bf47",
   "metadata": {},
   "outputs": [],
   "source": [
    "a=np.asarray()"
   ]
  },
  {
   "cell_type": "code",
   "execution_count": 17,
   "id": "f78beaac",
   "metadata": {},
   "outputs": [
    {
     "data": {
      "text/plain": [
       "array([1, 2, 3, 5])"
      ]
     },
     "execution_count": 17,
     "metadata": {},
     "output_type": "execute_result"
    }
   ],
   "source": [
    "a"
   ]
  },
  {
   "cell_type": "code",
   "execution_count": 14,
   "id": "74e8ce68",
   "metadata": {},
   "outputs": [
    {
     "data": {
      "text/plain": [
       "array([], dtype=int32)"
      ]
     },
     "execution_count": 14,
     "metadata": {},
     "output_type": "execute_result"
    }
   ],
   "source": []
  },
  {
   "cell_type": "code",
   "execution_count": 15,
   "id": "d1678384",
   "metadata": {},
   "outputs": [],
   "source": [
    "import numpy as np\n",
    "a=np.arange(1,200,6)"
   ]
  },
  {
   "cell_type": "code",
   "execution_count": 16,
   "id": "df4949bf",
   "metadata": {},
   "outputs": [
    {
     "data": {
      "text/plain": [
       "array([  1,   7,  13,  19,  25,  31,  37,  43,  49,  55,  61,  67,  73,\n",
       "        79,  85,  91,  97, 103, 109, 115, 121, 127, 133, 139, 145, 151,\n",
       "       157, 163, 169, 175, 181, 187, 193, 199])"
      ]
     },
     "execution_count": 16,
     "metadata": {},
     "output_type": "execute_result"
    }
   ],
   "source": [
    "a"
   ]
  },
  {
   "cell_type": "code",
   "execution_count": 22,
   "id": "dd5ae54a",
   "metadata": {},
   "outputs": [
    {
     "ename": "ValueError",
     "evalue": "The truth value of an array with more than one element is ambiguous. Use a.any() or a.all()",
     "output_type": "error",
     "traceback": [
      "\u001b[1;31m---------------------------------------------------------------------------\u001b[0m",
      "\u001b[1;31mValueError\u001b[0m                                Traceback (most recent call last)",
      "Input \u001b[1;32mIn [22]\u001b[0m, in \u001b[0;36m<cell line: 1>\u001b[1;34m()\u001b[0m\n\u001b[1;32m----> 1\u001b[0m a[a\u001b[38;5;241m%\u001b[39m\u001b[38;5;241m7\u001b[39m\u001b[38;5;241m==\u001b[39m\u001b[38;5;241m0\u001b[39m \u001b[38;5;129;01mand\u001b[39;00m a\u001b[38;5;241m>\u001b[39m\u001b[38;5;241m10\u001b[39m]\n",
      "\u001b[1;31mValueError\u001b[0m: The truth value of an array with more than one element is ambiguous. Use a.any() or a.all()"
     ]
    }
   ],
   "source": []
  },
  {
   "cell_type": "code",
   "execution_count": 23,
   "id": "aff3ef5a",
   "metadata": {},
   "outputs": [],
   "source": [
    "a=np.arange(1,490,7)\n",
    "r=np.reshape(a,[35,2])"
   ]
  },
  {
   "cell_type": "code",
   "execution_count": 24,
   "id": "84448110",
   "metadata": {},
   "outputs": [
    {
     "data": {
      "text/plain": [
       "array([[  1,   8],\n",
       "       [ 15,  22],\n",
       "       [ 29,  36],\n",
       "       [ 43,  50],\n",
       "       [ 57,  64],\n",
       "       [ 71,  78],\n",
       "       [ 85,  92],\n",
       "       [ 99, 106],\n",
       "       [113, 120],\n",
       "       [127, 134],\n",
       "       [141, 148],\n",
       "       [155, 162],\n",
       "       [169, 176],\n",
       "       [183, 190],\n",
       "       [197, 204],\n",
       "       [211, 218],\n",
       "       [225, 232],\n",
       "       [239, 246],\n",
       "       [253, 260],\n",
       "       [267, 274],\n",
       "       [281, 288],\n",
       "       [295, 302],\n",
       "       [309, 316],\n",
       "       [323, 330],\n",
       "       [337, 344],\n",
       "       [351, 358],\n",
       "       [365, 372],\n",
       "       [379, 386],\n",
       "       [393, 400],\n",
       "       [407, 414],\n",
       "       [421, 428],\n",
       "       [435, 442],\n",
       "       [449, 456],\n",
       "       [463, 470],\n",
       "       [477, 484]])"
      ]
     },
     "execution_count": 24,
     "metadata": {},
     "output_type": "execute_result"
    }
   ],
   "source": [
    "r"
   ]
  },
  {
   "cell_type": "code",
   "execution_count": 2,
   "id": "fee10ab3",
   "metadata": {},
   "outputs": [],
   "source": [
    "import numpy as np\n",
    "a=np.arange(1,200,6)\n"
   ]
  },
  {
   "cell_type": "code",
   "execution_count": 3,
   "id": "bac4464a",
   "metadata": {},
   "outputs": [
    {
     "data": {
      "text/plain": [
       "array([  1,   7,  13,  19,  25,  31,  37,  43,  49,  55,  61,  67,  73,\n",
       "        79,  85,  91,  97, 103, 109, 115, 121, 127, 133, 139, 145, 151,\n",
       "       157, 163, 169, 175, 181, 187, 193, 199])"
      ]
     },
     "execution_count": 3,
     "metadata": {},
     "output_type": "execute_result"
    }
   ],
   "source": [
    "a"
   ]
  },
  {
   "cell_type": "code",
   "execution_count": 12,
   "id": "b332d31a",
   "metadata": {},
   "outputs": [
    {
     "data": {
      "text/plain": [
       "array([ 31,  37,  43,  49,  55,  61,  67,  73,  79,  85,  91,  97, 103,\n",
       "       109, 115, 121, 127, 133, 139, 145, 151, 157, 163, 169, 175, 181,\n",
       "       187, 193, 199])"
      ]
     },
     "execution_count": 12,
     "metadata": {},
     "output_type": "execute_result"
    }
   ],
   "source": [
    "a[5:]"
   ]
  },
  {
   "cell_type": "code",
   "execution_count": 13,
   "id": "494919e8",
   "metadata": {},
   "outputs": [
    {
     "data": {
      "text/plain": [
       "array([25, 31, 37, 43, 49, 55, 61, 67, 73])"
      ]
     },
     "execution_count": 13,
     "metadata": {},
     "output_type": "execute_result"
    }
   ],
   "source": [
    "a[4:13]"
   ]
  },
  {
   "cell_type": "code",
   "execution_count": 14,
   "id": "d2ec2c07",
   "metadata": {},
   "outputs": [
    {
     "data": {
      "text/plain": [
       "array([ 25,  73, 121, 169])"
      ]
     },
     "execution_count": 14,
     "metadata": {},
     "output_type": "execute_result"
    }
   ],
   "source": [
    "a[4:30:8]"
   ]
  },
  {
   "cell_type": "code",
   "execution_count": null,
   "id": "fc0cd596",
   "metadata": {},
   "outputs": [],
   "source": []
  },
  {
   "cell_type": "code",
   "execution_count": 21,
   "id": "d91ed473",
   "metadata": {},
   "outputs": [],
   "source": [
    "a=[1,2,3,4,5]"
   ]
  },
  {
   "cell_type": "code",
   "execution_count": 26,
   "id": "c6b0c8aa",
   "metadata": {},
   "outputs": [
    {
     "name": "stdout",
     "output_type": "stream",
     "text": [
      "[1 2 3 4 5]\n"
     ]
    }
   ],
   "source": [
    "a1=np.array(a)\n",
    "print(a1)"
   ]
  },
  {
   "cell_type": "code",
   "execution_count": 23,
   "id": "bf409249",
   "metadata": {},
   "outputs": [],
   "source": [
    "b=a1[1:4]"
   ]
  },
  {
   "cell_type": "code",
   "execution_count": 24,
   "id": "84158092",
   "metadata": {},
   "outputs": [],
   "source": [
    "b[1]=10"
   ]
  },
  {
   "cell_type": "code",
   "execution_count": 25,
   "id": "a3485bce",
   "metadata": {},
   "outputs": [
    {
     "name": "stdout",
     "output_type": "stream",
     "text": [
      "[ 1  2 10  4  5]\n"
     ]
    }
   ],
   "source": [
    "print(a1)"
   ]
  },
  {
   "cell_type": "code",
   "execution_count": 29,
   "id": "64f94f9a",
   "metadata": {},
   "outputs": [
    {
     "data": {
      "text/plain": [
       "array([  1,   8,  15,  22,  29,  36,  43,  50,  57,  64,  71,  78,  85,\n",
       "        92,  99, 106, 113, 120, 127, 134, 141, 148, 155, 162, 169, 176,\n",
       "       183, 190, 197, 204, 211, 218, 225, 232, 239, 246, 253, 260, 267,\n",
       "       274, 281, 288, 295, 302, 309, 316, 323, 330, 337, 344, 351, 358,\n",
       "       365, 372, 379, 386, 393, 400, 407, 414, 421, 428, 435, 442, 449,\n",
       "       456, 463, 470, 477, 484])"
      ]
     },
     "execution_count": 29,
     "metadata": {},
     "output_type": "execute_result"
    }
   ],
   "source": [
    "a"
   ]
  },
  {
   "cell_type": "code",
   "execution_count": 30,
   "id": "6dd30ecb",
   "metadata": {},
   "outputs": [
    {
     "data": {
      "text/plain": [
       "421"
      ]
     },
     "execution_count": 30,
     "metadata": {},
     "output_type": "execute_result"
    }
   ],
   "source": [
    "a[-10]"
   ]
  },
  {
   "cell_type": "code",
   "execution_count": 31,
   "id": "9e77d5f1",
   "metadata": {},
   "outputs": [],
   "source": [
    "q=np.transpose(a)"
   ]
  },
  {
   "cell_type": "code",
   "execution_count": 33,
   "id": "9f5d1acd",
   "metadata": {},
   "outputs": [
    {
     "data": {
      "text/plain": [
       "70"
      ]
     },
     "execution_count": 33,
     "metadata": {},
     "output_type": "execute_result"
    }
   ],
   "source": [
    "len(q)"
   ]
  },
  {
   "cell_type": "code",
   "execution_count": 37,
   "id": "bfbefaea",
   "metadata": {},
   "outputs": [],
   "source": [
    "q=np.reshape(a,[7,10])"
   ]
  },
  {
   "cell_type": "code",
   "execution_count": 38,
   "id": "927992ef",
   "metadata": {},
   "outputs": [
    {
     "data": {
      "text/plain": [
       "array([[  1,   8,  15,  22,  29,  36,  43,  50,  57,  64],\n",
       "       [ 71,  78,  85,  92,  99, 106, 113, 120, 127, 134],\n",
       "       [141, 148, 155, 162, 169, 176, 183, 190, 197, 204],\n",
       "       [211, 218, 225, 232, 239, 246, 253, 260, 267, 274],\n",
       "       [281, 288, 295, 302, 309, 316, 323, 330, 337, 344],\n",
       "       [351, 358, 365, 372, 379, 386, 393, 400, 407, 414],\n",
       "       [421, 428, 435, 442, 449, 456, 463, 470, 477, 484]])"
      ]
     },
     "execution_count": 38,
     "metadata": {},
     "output_type": "execute_result"
    }
   ],
   "source": [
    "q"
   ]
  },
  {
   "cell_type": "code",
   "execution_count": 39,
   "id": "bd54d88b",
   "metadata": {},
   "outputs": [],
   "source": [
    "w=np.transpose(q)"
   ]
  },
  {
   "cell_type": "code",
   "execution_count": 40,
   "id": "5cd3aaee",
   "metadata": {},
   "outputs": [
    {
     "data": {
      "text/plain": [
       "array([[  1,  71, 141, 211, 281, 351, 421],\n",
       "       [  8,  78, 148, 218, 288, 358, 428],\n",
       "       [ 15,  85, 155, 225, 295, 365, 435],\n",
       "       [ 22,  92, 162, 232, 302, 372, 442],\n",
       "       [ 29,  99, 169, 239, 309, 379, 449],\n",
       "       [ 36, 106, 176, 246, 316, 386, 456],\n",
       "       [ 43, 113, 183, 253, 323, 393, 463],\n",
       "       [ 50, 120, 190, 260, 330, 400, 470],\n",
       "       [ 57, 127, 197, 267, 337, 407, 477],\n",
       "       [ 64, 134, 204, 274, 344, 414, 484]])"
      ]
     },
     "execution_count": 40,
     "metadata": {},
     "output_type": "execute_result"
    }
   ],
   "source": [
    "w"
   ]
  },
  {
   "cell_type": "code",
   "execution_count": 41,
   "id": "7e4a148b",
   "metadata": {},
   "outputs": [],
   "source": [
    "y=w.transpose()"
   ]
  },
  {
   "cell_type": "code",
   "execution_count": 42,
   "id": "d3152afe",
   "metadata": {},
   "outputs": [
    {
     "data": {
      "text/plain": [
       "array([[  1,   8,  15,  22,  29,  36,  43,  50,  57,  64],\n",
       "       [ 71,  78,  85,  92,  99, 106, 113, 120, 127, 134],\n",
       "       [141, 148, 155, 162, 169, 176, 183, 190, 197, 204],\n",
       "       [211, 218, 225, 232, 239, 246, 253, 260, 267, 274],\n",
       "       [281, 288, 295, 302, 309, 316, 323, 330, 337, 344],\n",
       "       [351, 358, 365, 372, 379, 386, 393, 400, 407, 414],\n",
       "       [421, 428, 435, 442, 449, 456, 463, 470, 477, 484]])"
      ]
     },
     "execution_count": 42,
     "metadata": {},
     "output_type": "execute_result"
    }
   ],
   "source": [
    "y"
   ]
  },
  {
   "cell_type": "code",
   "execution_count": 44,
   "id": "2740d09a",
   "metadata": {},
   "outputs": [
    {
     "data": {
      "text/plain": [
       "(7, 10)"
      ]
     },
     "execution_count": 44,
     "metadata": {},
     "output_type": "execute_result"
    }
   ],
   "source": [
    "y.shape\n"
   ]
  },
  {
   "cell_type": "code",
   "execution_count": 45,
   "id": "ebbe9403",
   "metadata": {},
   "outputs": [],
   "source": [
    "a=[1,2,4,6]"
   ]
  },
  {
   "cell_type": "code",
   "execution_count": null,
   "id": "545af466",
   "metadata": {},
   "outputs": [],
   "source": []
  },
  {
   "cell_type": "code",
   "execution_count": 50,
   "id": "5a53d25c",
   "metadata": {},
   "outputs": [],
   "source": [
    "import numpy as np\n",
    "a=np.sin(np.array([1,2,3,35,45,56,7,6]))"
   ]
  },
  {
   "cell_type": "code",
   "execution_count": 51,
   "id": "f0356bea",
   "metadata": {},
   "outputs": [
    {
     "data": {
      "text/plain": [
       "array([ 0.84147098,  0.90929743,  0.14112001, -0.42818267,  0.85090352,\n",
       "       -0.521551  ,  0.6569866 , -0.2794155 ])"
      ]
     },
     "execution_count": 51,
     "metadata": {},
     "output_type": "execute_result"
    }
   ],
   "source": [
    "a"
   ]
  },
  {
   "cell_type": "code",
   "execution_count": 52,
   "id": "7caa22f3",
   "metadata": {},
   "outputs": [],
   "source": [
    "base=2\n",
    "height=6"
   ]
  },
  {
   "cell_type": "code",
   "execution_count": 53,
   "id": "dac42a1d",
   "metadata": {},
   "outputs": [
    {
     "data": {
      "text/plain": [
       "6.324555320336759"
      ]
     },
     "execution_count": 53,
     "metadata": {},
     "output_type": "execute_result"
    }
   ],
   "source": [
    "np.hypot(base,height)"
   ]
  },
  {
   "cell_type": "code",
   "execution_count": 59,
   "id": "2aa20788",
   "metadata": {},
   "outputs": [
    {
     "name": "stdout",
     "output_type": "stream",
     "text": [
      "0.2713286716455455\n",
      "0.39905330338932815\n",
      "0.5760808500933092\n",
      "0.3318691458442298\n",
      "-0.5215510020869119 0.9092974268256817\n",
      "-0.36867580097726094\n"
     ]
    }
   ],
   "source": [
    "print(np.mean(a))\n",
    "print(np.median(a))\n",
    "print(np.std(a))\n",
    "print(np.var(a))\n",
    "print(np.amin(a),np.amax(a))\n",
    "print(np.percentile(a,20))"
   ]
  },
  {
   "cell_type": "code",
   "execution_count": 1,
   "id": "d0e771d6",
   "metadata": {},
   "outputs": [],
   "source": [
    "import numpy as np"
   ]
  },
  {
   "cell_type": "code",
   "execution_count": 2,
   "id": "20dafb73",
   "metadata": {},
   "outputs": [
    {
     "name": "stdout",
     "output_type": "stream",
     "text": [
      "[ 0  2  4  6  8 16 32]\n"
     ]
    }
   ],
   "source": [
    "print(np.bitwise_and(even,odd))\n",
    "odd=np.array([1,3,5,7,9,17,33])\n",
    "\n",
    "print(np.bitwise_and(even,odd))"
   ]
  },
  {
   "cell_type": "code",
   "execution_count": 3,
   "id": "a8525950",
   "metadata": {},
   "outputs": [
    {
     "name": "stdout",
     "output_type": "stream",
     "text": [
      "[ 1  3  5  7  9 17 33]\n"
     ]
    }
   ],
   "source": [
    "print(np.bitwise_or(even,odd))"
   ]
  },
  {
   "cell_type": "code",
   "execution_count": 4,
   "id": "769eb978",
   "metadata": {},
   "outputs": [
    {
     "name": "stdout",
     "output_type": "stream",
     "text": [
      "[1 1 1 1 1 1 1]\n"
     ]
    }
   ],
   "source": [
    "print(np.bitwise_xor(even,odd))"
   ]
  },
  {
   "cell_type": "code",
   "execution_count": 3,
   "id": "b3fcc0e2",
   "metadata": {},
   "outputs": [],
   "source": [
    "import numpy as np\n",
    "even=np.array([0,2,4,6,8,16,32])"
   ]
  },
  {
   "cell_type": "code",
   "execution_count": 5,
   "id": "d55a5beb",
   "metadata": {},
   "outputs": [
    {
     "name": "stdout",
     "output_type": "stream",
     "text": [
      "[ 0  2  4  6  8 16 32]\n"
     ]
    }
   ],
   "source": [
    "print(np.invert(np.invert(even)))"
   ]
  },
  {
   "cell_type": "code",
   "execution_count": 6,
   "id": "61ec86fc",
   "metadata": {},
   "outputs": [],
   "source": [
    "a=np.array([1])"
   ]
  },
  {
   "cell_type": "code",
   "execution_count": 7,
   "id": "5d3bce8e",
   "metadata": {},
   "outputs": [
    {
     "name": "stdout",
     "output_type": "stream",
     "text": [
      "[8]\n"
     ]
    }
   ],
   "source": [
    "print(np.left_shift(a,3))"
   ]
  },
  {
   "cell_type": "code",
   "execution_count": 8,
   "id": "7c882ed2",
   "metadata": {},
   "outputs": [
    {
     "name": "stdout",
     "output_type": "stream",
     "text": [
      "[0]\n"
     ]
    }
   ],
   "source": [
    "print(np.right_shift(a,3))"
   ]
  },
  {
   "cell_type": "code",
   "execution_count": 11,
   "id": "421e6ff1",
   "metadata": {},
   "outputs": [],
   "source": [
    "even=np.array([0.3,2.6,4.8,6.5,8.9,16.999,32.0])"
   ]
  },
  {
   "cell_type": "code",
   "execution_count": 12,
   "id": "2a3b5179",
   "metadata": {},
   "outputs": [
    {
     "data": {
      "text/plain": [
       "array([ 1.,  3.,  5.,  7.,  9., 17., 32.])"
      ]
     },
     "execution_count": 12,
     "metadata": {},
     "output_type": "execute_result"
    }
   ],
   "source": [
    "np.ceil(even)"
   ]
  },
  {
   "cell_type": "code",
   "execution_count": 13,
   "id": "15a95209",
   "metadata": {},
   "outputs": [
    {
     "data": {
      "text/plain": [
       "array([ 0.,  2.,  4.,  6.,  8., 16., 32.])"
      ]
     },
     "execution_count": 13,
     "metadata": {},
     "output_type": "execute_result"
    }
   ],
   "source": [
    "np.floor(even)"
   ]
  },
  {
   "cell_type": "code",
   "execution_count": 14,
   "id": "dadce1ec",
   "metadata": {},
   "outputs": [
    {
     "data": {
      "text/plain": [
       "array([-1.73696559,  1.37851162,  2.26303441,  2.70043972,  3.15380534,\n",
       "        4.08737797,  5.        ])"
      ]
     },
     "execution_count": 14,
     "metadata": {},
     "output_type": "execute_result"
    }
   ],
   "source": [
    "np.log2(even)"
   ]
  },
  {
   "cell_type": "code",
   "execution_count": 1,
   "id": "eb7af435",
   "metadata": {},
   "outputs": [],
   "source": [
    "import numpy as np\n",
    "import pandas as pd\n",
    "import matplotlib.pyplot as mlt\n"
   ]
  },
  {
   "cell_type": "code",
   "execution_count": 2,
   "id": "fd907caa",
   "metadata": {},
   "outputs": [],
   "source": [
    "a=[1,5,-2,5,6,8]"
   ]
  },
  {
   "cell_type": "code",
   "execution_count": 3,
   "id": "b26a5475",
   "metadata": {},
   "outputs": [],
   "source": [
    "q=np.array(a)"
   ]
  },
  {
   "cell_type": "code",
   "execution_count": 4,
   "id": "f8fa4196",
   "metadata": {},
   "outputs": [
    {
     "data": {
      "text/plain": [
       "array([ 1,  5, -2,  5,  6,  8])"
      ]
     },
     "execution_count": 4,
     "metadata": {},
     "output_type": "execute_result"
    }
   ],
   "source": [
    "q"
   ]
  },
  {
   "cell_type": "code",
   "execution_count": 5,
   "id": "a44e571d",
   "metadata": {},
   "outputs": [],
   "source": [
    "w=np.sort(q)"
   ]
  },
  {
   "cell_type": "code",
   "execution_count": 6,
   "id": "0daf6ef3",
   "metadata": {},
   "outputs": [
    {
     "data": {
      "text/plain": [
       "array([-2,  1,  5,  5,  6,  8])"
      ]
     },
     "execution_count": 6,
     "metadata": {},
     "output_type": "execute_result"
    }
   ],
   "source": [
    "w"
   ]
  },
  {
   "cell_type": "code",
   "execution_count": 7,
   "id": "5717a5c4",
   "metadata": {},
   "outputs": [
    {
     "data": {
      "text/plain": [
       "array([ 1,  5, -2,  5,  6,  8])"
      ]
     },
     "execution_count": 7,
     "metadata": {},
     "output_type": "execute_result"
    }
   ],
   "source": [
    "q"
   ]
  },
  {
   "cell_type": "code",
   "execution_count": 8,
   "id": "d6cab3ec",
   "metadata": {},
   "outputs": [],
   "source": [
    "r=np.reshape(a,[3,2])"
   ]
  },
  {
   "cell_type": "code",
   "execution_count": 9,
   "id": "bc1e1e36",
   "metadata": {},
   "outputs": [
    {
     "data": {
      "text/plain": [
       "array([[ 1,  5],\n",
       "       [-2,  5],\n",
       "       [ 6,  8]])"
      ]
     },
     "execution_count": 9,
     "metadata": {},
     "output_type": "execute_result"
    }
   ],
   "source": [
    "r"
   ]
  },
  {
   "cell_type": "code",
   "execution_count": 10,
   "id": "8501ea85",
   "metadata": {},
   "outputs": [
    {
     "data": {
      "text/plain": [
       "array([[-2,  5],\n",
       "       [ 1,  5],\n",
       "       [ 6,  8]])"
      ]
     },
     "execution_count": 10,
     "metadata": {},
     "output_type": "execute_result"
    }
   ],
   "source": [
    "np.sort(r,axis=0)"
   ]
  },
  {
   "cell_type": "code",
   "execution_count": 11,
   "id": "4a73f4f0",
   "metadata": {},
   "outputs": [
    {
     "data": {
      "text/plain": [
       "array([[ 1,  5],\n",
       "       [-2,  5],\n",
       "       [ 6,  8]])"
      ]
     },
     "execution_count": 11,
     "metadata": {},
     "output_type": "execute_result"
    }
   ],
   "source": [
    "np.sort(r,axis=-1)"
   ]
  },
  {
   "cell_type": "code",
   "execution_count": 13,
   "id": "1c5f0319",
   "metadata": {},
   "outputs": [
    {
     "data": {
      "text/plain": [
       "array([-2,  1,  5,  5,  6,  8])"
      ]
     },
     "execution_count": 13,
     "metadata": {},
     "output_type": "execute_result"
    }
   ],
   "source": [
    "np.sort(r,axis=None)"
   ]
  },
  {
   "cell_type": "code",
   "execution_count": 15,
   "id": "f9b75ad6",
   "metadata": {},
   "outputs": [],
   "source": [
    "x=np.reshape(a,[1,2,3])"
   ]
  },
  {
   "cell_type": "code",
   "execution_count": 16,
   "id": "0f5481c4",
   "metadata": {},
   "outputs": [
    {
     "data": {
      "text/plain": [
       "array([[[ 1,  5, -2],\n",
       "        [ 5,  6,  8]]])"
      ]
     },
     "execution_count": 16,
     "metadata": {},
     "output_type": "execute_result"
    }
   ],
   "source": [
    "x"
   ]
  },
  {
   "cell_type": "code",
   "execution_count": 17,
   "id": "181cc5ca",
   "metadata": {},
   "outputs": [
    {
     "data": {
      "text/plain": [
       "array([-2,  1,  5,  5,  6,  8])"
      ]
     },
     "execution_count": 17,
     "metadata": {},
     "output_type": "execute_result"
    }
   ],
   "source": [
    "np.sort(x,axis=None)"
   ]
  },
  {
   "cell_type": "code",
   "execution_count": 18,
   "id": "0350ad14",
   "metadata": {},
   "outputs": [
    {
     "data": {
      "text/plain": [
       "array([[[ 1,  5, -2],\n",
       "        [ 5,  6,  8]]])"
      ]
     },
     "execution_count": 18,
     "metadata": {},
     "output_type": "execute_result"
    }
   ],
   "source": [
    "np.sort(x,axis=1)"
   ]
  },
  {
   "cell_type": "code",
   "execution_count": 19,
   "id": "70253863",
   "metadata": {},
   "outputs": [
    {
     "data": {
      "text/plain": [
       "array([[[ 1,  5, -2],\n",
       "        [ 5,  6,  8]]])"
      ]
     },
     "execution_count": 19,
     "metadata": {},
     "output_type": "execute_result"
    }
   ],
   "source": [
    "np.sort(x,axis=0)"
   ]
  },
  {
   "cell_type": "code",
   "execution_count": 20,
   "id": "8d855a10",
   "metadata": {},
   "outputs": [
    {
     "data": {
      "text/plain": [
       "array([[[-2,  1,  5],\n",
       "        [ 5,  6,  8]]])"
      ]
     },
     "execution_count": 20,
     "metadata": {},
     "output_type": "execute_result"
    }
   ],
   "source": [
    "np.sort(x,axis=-1)"
   ]
  },
  {
   "cell_type": "code",
   "execution_count": 21,
   "id": "9c124bd0",
   "metadata": {},
   "outputs": [
    {
     "data": {
      "text/plain": [
       "[1, 5, -2, 5, 6, 8]"
      ]
     },
     "execution_count": 21,
     "metadata": {},
     "output_type": "execute_result"
    }
   ],
   "source": [
    "a"
   ]
  },
  {
   "cell_type": "code",
   "execution_count": 23,
   "id": "8ef179ff",
   "metadata": {},
   "outputs": [
    {
     "data": {
      "text/plain": [
       "array([-2,  1,  5,  5,  6,  8])"
      ]
     },
     "execution_count": 23,
     "metadata": {},
     "output_type": "execute_result"
    }
   ],
   "source": [
    "np.sort(a,kind=\"selectionsort\")"
   ]
  },
  {
   "cell_type": "code",
   "execution_count": 25,
   "id": "1ffa50d7",
   "metadata": {},
   "outputs": [
    {
     "data": {
      "text/plain": [
       "array([-2,  1,  5,  5,  6,  8])"
      ]
     },
     "execution_count": 25,
     "metadata": {},
     "output_type": "execute_result"
    }
   ],
   "source": [
    "np.sort(a,kind=\"merge\")"
   ]
  },
  {
   "cell_type": "code",
   "execution_count": 26,
   "id": "cc87f2cb",
   "metadata": {},
   "outputs": [
    {
     "data": {
      "text/plain": [
       "array([-2,  1,  5,  5,  6,  8])"
      ]
     },
     "execution_count": 26,
     "metadata": {},
     "output_type": "execute_result"
    }
   ],
   "source": [
    "np.sort(a,kind=\"heap\")"
   ]
  },
  {
   "cell_type": "code",
   "execution_count": 28,
   "id": "dc47f330",
   "metadata": {},
   "outputs": [
    {
     "data": {
      "text/plain": [
       "array([-2,  1,  5,  5,  6,  8])"
      ]
     },
     "execution_count": 28,
     "metadata": {},
     "output_type": "execute_result"
    }
   ],
   "source": [
    "np.sort(a,kind=\"selection\")"
   ]
  },
  {
   "cell_type": "code",
   "execution_count": null,
   "id": "2d78a20e",
   "metadata": {},
   "outputs": [],
   "source": []
  }
 ],
 "metadata": {
  "kernelspec": {
   "display_name": "Python 3 (ipykernel)",
   "language": "python",
   "name": "python3"
  },
  "language_info": {
   "codemirror_mode": {
    "name": "ipython",
    "version": 3
   },
   "file_extension": ".py",
   "mimetype": "text/x-python",
   "name": "python",
   "nbconvert_exporter": "python",
   "pygments_lexer": "ipython3",
   "version": "3.9.12"
  }
 },
 "nbformat": 4,
 "nbformat_minor": 5
}
